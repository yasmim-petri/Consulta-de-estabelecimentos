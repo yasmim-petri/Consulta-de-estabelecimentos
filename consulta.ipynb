{
  "cells": [
    {
      "cell_type": "code",
      "execution_count": 33,
      "metadata": {},
      "outputs": [],
      "source": [
        "import pandas as pd\n",
        "import os\n",
        "\n"
      ]
    },
    {
      "cell_type": "code",
      "execution_count": 34,
      "metadata": {},
      "outputs": [],
      "source": [
        "\n",
        "# Caminho do seu JSON de credenciais\n",
        "os.environ[\"GOOGLE_APPLICATION_CREDENTIALS\"] = \"C:/Users/Yasmim/Downloads/minha-conta-servico.json\"\n",
        "\n",
        "# ID do projeto\n",
        "project_id = \"analise-470017\""
      ]
    },
    {
      "cell_type": "code",
      "execution_count": 36,
      "metadata": {},
      "outputs": [],
      "source": [
        "# Query corrigida\n",
        "query = \"\"\"\n",
        "SELECT \n",
        "    ano,\n",
        "    id_municipio,\n",
        "    sigla_uf,\n",
        "    natureza_estabelecimento,\n",
        "    natureza_juridica,\n",
        "    quantidade_vinculos_ativos,\n",
        "    cnae_1,\n",
        "    cnae_2,\n",
        "    cnae_2_subclasse\n",
        "FROM `basedosdados.br_me_rais.microdados_estabelecimentos`\n",
        "WHERE ano BETWEEN 2019 AND 2023\n",
        "  AND id_municipio IN ('3550308', '3304557')  -- SP e RJ como STRING\n",
        "  AND quantidade_vinculos_ativos > 0\n",
        "\"\"\"\n"
      ]
    },
    {
      "cell_type": "code",
      "execution_count": 37,
      "metadata": {},
      "outputs": [
        {
          "name": "stdout",
          "output_type": "stream",
          "text": [
            "    ano id_municipio sigla_uf natureza_estabelecimento natureza_juridica  \\\n",
            "0  2020      3304557       RJ                     None              1023   \n",
            "1  2020      3304557       RJ                     None              1015   \n",
            "2  2020      3304557       RJ                     None              1031   \n",
            "3  2020      3304557       RJ                     None              1023   \n",
            "4  2020      3304557       RJ                     None              1023   \n",
            "\n",
            "   quantidade_vinculos_ativos cnae_1 cnae_2 cnae_2_subclasse  \n",
            "0                         353  75116  84116          8411600  \n",
            "1                         461  75116  84116          8411600  \n",
            "2                          21  75116  84116          8411600  \n",
            "3                          63  75116  84116          8411600  \n",
            "4                         152  75116  84116          8411600  \n",
            "Consulta concluída e CSV salvo!\n"
          ]
        }
      ],
      "source": [
        "# Executa a query\n",
        "df = pd.read_gbq(query, project_id=project_id, dialect='standard')\n",
        "\n",
        "# Mostra as primeiras linhas\n",
        "print(df.head())\n",
        "\n",
        "# Salva em CSV\n",
        "df.to_csv(\"estabelecimentos_rj_sp_2019_2023.csv\", index=False)\n",
        "print(\"Consulta concluída e CSV salvo!\")\n"
      ]
    }
  ],
  "metadata": {
    "colab": {
      "provenance": []
    },
    "kernelspec": {
      "display_name": "Python 3",
      "name": "python3"
    },
    "language_info": {
      "codemirror_mode": {
        "name": "ipython",
        "version": 3
      },
      "file_extension": ".py",
      "mimetype": "text/x-python",
      "name": "python",
      "nbconvert_exporter": "python",
      "pygments_lexer": "ipython3",
      "version": "3.13.5"
    }
  },
  "nbformat": 4,
  "nbformat_minor": 0
}
